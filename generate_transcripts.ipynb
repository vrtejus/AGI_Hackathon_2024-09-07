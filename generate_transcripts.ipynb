{
 "cells": [
  {
   "cell_type": "code",
   "execution_count": 2,
   "metadata": {},
   "outputs": [
    {
     "name": "stdout",
     "output_type": "stream",
     "text": [
      "JSON file generated successfully!\n"
     ]
    }
   ],
   "source": [
    "import json\n",
    "import re\n",
    "\n",
    "def text_to_json(file_path):\n",
    "    # Regular expression to match speaker and time format\n",
    "    speaker_pattern = r\"(Speaker \\d+)\\s+(\\d{1,2}:\\d{2})\"\n",
    "    \n",
    "    result = []\n",
    "    \n",
    "    with open(file_path, 'r') as file:\n",
    "        lines = file.readlines()\n",
    "        \n",
    "        current_speaker = None\n",
    "        current_time = None\n",
    "        current_dialogue = []\n",
    "        \n",
    "        for line in lines:\n",
    "            # Check if the line contains speaker and time info\n",
    "            speaker_match = re.match(speaker_pattern, line)\n",
    "            \n",
    "            if speaker_match:\n",
    "                # If we already have dialogue for the current speaker, add it to result\n",
    "                if current_speaker and current_dialogue:\n",
    "                    result.append({\n",
    "                        \"speaker\": current_speaker,\n",
    "                        \"time\": current_time,\n",
    "                        \"dialogue\": \" \".join(current_dialogue).strip()\n",
    "                    })\n",
    "                \n",
    "                # Update speaker, time, and reset dialogue\n",
    "                current_speaker = speaker_match.group(1)\n",
    "                current_time = speaker_match.group(2)\n",
    "                current_dialogue = []\n",
    "            else:\n",
    "                # Accumulate the dialogue\n",
    "                current_dialogue.append(line.strip())\n",
    "        \n",
    "        # Add the last dialogue entry\n",
    "        if current_speaker and current_dialogue:\n",
    "            result.append({\n",
    "                \"speaker\": current_speaker,\n",
    "                \"time\": current_time,\n",
    "                \"dialogue\": \" \".join(current_dialogue).strip()\n",
    "            })\n",
    "    \n",
    "    # Convert result to JSON\n",
    "    return json.dumps(result, indent=4)\n",
    "\n",
    "# Example usage\n",
    "file_path = '/Users/ammachi/Downloads/otter_ai.txt'  # Replace with your file path\n",
    "json_output = text_to_json(file_path)\n",
    "\n",
    "# Write the JSON output to a file\n",
    "with open('transcript.json', 'w') as json_file:\n",
    "    json_file.write(json_output)\n",
    "\n",
    "print(\"JSON file generated successfully!\")\n"
   ]
  },
  {
   "cell_type": "code",
   "execution_count": null,
   "metadata": {},
   "outputs": [],
   "source": []
  }
 ],
 "metadata": {
  "kernelspec": {
   "display_name": "Python 3",
   "language": "python",
   "name": "python3"
  },
  "language_info": {
   "codemirror_mode": {
    "name": "ipython",
    "version": 3
   },
   "file_extension": ".py",
   "mimetype": "text/x-python",
   "name": "python",
   "nbconvert_exporter": "python",
   "pygments_lexer": "ipython3",
   "version": "3.11.4"
  }
 },
 "nbformat": 4,
 "nbformat_minor": 2
}
